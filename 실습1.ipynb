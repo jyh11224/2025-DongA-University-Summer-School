{
  "nbformat": 4,
  "nbformat_minor": 0,
  "metadata": {
    "colab": {
      "provenance": [],
      "authorship_tag": "ABX9TyPRgfJH7VRv/lXCXtCTULqp",
      "include_colab_link": true
    },
    "kernelspec": {
      "name": "python3",
      "display_name": "Python 3"
    },
    "language_info": {
      "name": "python"
    }
  },
  "cells": [
    {
      "cell_type": "markdown",
      "metadata": {
        "id": "view-in-github",
        "colab_type": "text"
      },
      "source": [
        "<a href=\"https://colab.research.google.com/github/jyh11224/2025-DongA-University-Summer-School/blob/main/%EC%8B%A4%EC%8A%B51.ipynb\" target=\"_parent\"><img src=\"https://colab.research.google.com/assets/colab-badge.svg\" alt=\"Open In Colab\"/></a>"
      ]
    },
    {
      "cell_type": "code",
      "execution_count": 1,
      "metadata": {
        "id": "taAW713l8HRH"
      },
      "outputs": [],
      "source": [
        "import numpy as np\n",
        "import tensorflow as tf\n",
        "import tensorflow.keras.datasets as ds\n",
        "\n",
        "from tensorflow.keras.models import Sequential\n",
        "from tensorflow.keras.layers import Conv2D,MaxPooling2D,Flatten,Dropout,Dense\n",
        "from tensorflow.keras.optimizers import Adam"
      ]
    },
    {
      "cell_type": "code",
      "source": [
        "(x_train,y_train),(x_test,y_test)=ds.mnist.load_data()\n",
        "x_train=x_train.reshape(60000,28,28,1)\n",
        "x_test=x_test.reshape(10000,28,28,1)\n",
        "x_train=x_train.astype(np.float32)/255.0\n",
        "x_test=x_test.astype(np.float32)/255.0\n",
        "y_train=tf.keras.utils.to_categorical(y_train,10)\n",
        "y_test=tf.keras.utils.to_categorical(y_test,10)"
      ],
      "metadata": {
        "colab": {
          "base_uri": "https://localhost:8080/"
        },
        "id": "u8zeUxhR8LEG",
        "outputId": "d8cd6a72-f379-4a98-821a-3bd01b2d6ca3"
      },
      "execution_count": 2,
      "outputs": [
        {
          "output_type": "stream",
          "name": "stdout",
          "text": [
            "Downloading data from https://storage.googleapis.com/tensorflow/tf-keras-datasets/mnist.npz\n",
            "\u001b[1m11490434/11490434\u001b[0m \u001b[32m━━━━━━━━━━━━━━━━━━━━\u001b[0m\u001b[37m\u001b[0m \u001b[1m0s\u001b[0m 0us/step\n"
          ]
        }
      ]
    },
    {
      "cell_type": "code",
      "source": [
        "cnn=Sequential()\n",
        "cnn.add(Conv2D(6,(5,5),padding='same',activation='relu',input_shape=(28,28,1)))\n",
        "cnn.add(MaxPooling2D(pool_size=(2,2),strides=2))\n",
        "cnn.add(Conv2D(16,(5,5),padding='valid',activation='relu'))\n",
        "cnn.add(MaxPooling2D(pool_size=(2,2),strides=2))\n",
        "cnn.add(Conv2D(120,(5,5),padding='valid',activation='relu'))\n",
        "cnn.add(Flatten())\n",
        "cnn.add(Dense(units=84,activation='relu'))\n",
        "cnn.add(Dense(units=10,activation='softmax'))"
      ],
      "metadata": {
        "colab": {
          "base_uri": "https://localhost:8080/"
        },
        "id": "shOULH7g8NuW",
        "outputId": "8a6a5412-bb45-42dd-d4fb-e8d034de6c91"
      },
      "execution_count": 3,
      "outputs": [
        {
          "output_type": "stream",
          "name": "stderr",
          "text": [
            "/usr/local/lib/python3.11/dist-packages/keras/src/layers/convolutional/base_conv.py:107: UserWarning: Do not pass an `input_shape`/`input_dim` argument to a layer. When using Sequential models, prefer using an `Input(shape)` object as the first layer in the model instead.\n",
            "  super().__init__(activity_regularizer=activity_regularizer, **kwargs)\n"
          ]
        }
      ]
    },
    {
      "cell_type": "code",
      "source": [
        "cnn.compile(loss='categorical_crossentropy',optimizer=Adam(learning_rate=0.001),metrics=['accuracy'])\n",
        "cnn.fit(x_train,y_train,batch_size=128,epochs=30,validation_data=(x_test,y_test),verbose=2)"
      ],
      "metadata": {
        "colab": {
          "base_uri": "https://localhost:8080/"
        },
        "id": "pXMSgT2f8Os7",
        "outputId": "e5c3477e-9ad2-46b0-a218-10d976cee0ec"
      },
      "execution_count": 4,
      "outputs": [
        {
          "output_type": "stream",
          "name": "stdout",
          "text": [
            "Epoch 1/30\n",
            "469/469 - 37s - 78ms/step - accuracy: 0.9225 - loss: 0.2734 - val_accuracy: 0.9744 - val_loss: 0.0806\n",
            "Epoch 2/30\n",
            "469/469 - 33s - 70ms/step - accuracy: 0.9775 - loss: 0.0733 - val_accuracy: 0.9823 - val_loss: 0.0514\n",
            "Epoch 3/30\n",
            "469/469 - 42s - 90ms/step - accuracy: 0.9831 - loss: 0.0536 - val_accuracy: 0.9839 - val_loss: 0.0528\n",
            "Epoch 4/30\n",
            "469/469 - 34s - 73ms/step - accuracy: 0.9867 - loss: 0.0414 - val_accuracy: 0.9882 - val_loss: 0.0382\n",
            "Epoch 5/30\n",
            "469/469 - 40s - 86ms/step - accuracy: 0.9891 - loss: 0.0357 - val_accuracy: 0.9894 - val_loss: 0.0328\n",
            "Epoch 6/30\n",
            "469/469 - 33s - 70ms/step - accuracy: 0.9908 - loss: 0.0297 - val_accuracy: 0.9907 - val_loss: 0.0292\n",
            "Epoch 7/30\n",
            "469/469 - 44s - 94ms/step - accuracy: 0.9919 - loss: 0.0253 - val_accuracy: 0.9912 - val_loss: 0.0281\n",
            "Epoch 8/30\n",
            "469/469 - 39s - 83ms/step - accuracy: 0.9922 - loss: 0.0237 - val_accuracy: 0.9895 - val_loss: 0.0302\n",
            "Epoch 9/30\n",
            "469/469 - 41s - 87ms/step - accuracy: 0.9941 - loss: 0.0182 - val_accuracy: 0.9893 - val_loss: 0.0330\n",
            "Epoch 10/30\n",
            "469/469 - 40s - 85ms/step - accuracy: 0.9949 - loss: 0.0160 - val_accuracy: 0.9917 - val_loss: 0.0270\n",
            "Epoch 11/30\n",
            "469/469 - 41s - 87ms/step - accuracy: 0.9949 - loss: 0.0150 - val_accuracy: 0.9892 - val_loss: 0.0350\n",
            "Epoch 12/30\n",
            "469/469 - 33s - 70ms/step - accuracy: 0.9956 - loss: 0.0124 - val_accuracy: 0.9908 - val_loss: 0.0332\n",
            "Epoch 13/30\n",
            "469/469 - 42s - 89ms/step - accuracy: 0.9962 - loss: 0.0119 - val_accuracy: 0.9909 - val_loss: 0.0324\n",
            "Epoch 14/30\n",
            "469/469 - 40s - 85ms/step - accuracy: 0.9962 - loss: 0.0114 - val_accuracy: 0.9891 - val_loss: 0.0366\n",
            "Epoch 15/30\n",
            "469/469 - 35s - 75ms/step - accuracy: 0.9966 - loss: 0.0103 - val_accuracy: 0.9911 - val_loss: 0.0303\n",
            "Epoch 16/30\n",
            "469/469 - 39s - 83ms/step - accuracy: 0.9976 - loss: 0.0079 - val_accuracy: 0.9902 - val_loss: 0.0355\n",
            "Epoch 17/30\n",
            "469/469 - 32s - 69ms/step - accuracy: 0.9970 - loss: 0.0090 - val_accuracy: 0.9872 - val_loss: 0.0445\n",
            "Epoch 18/30\n",
            "469/469 - 41s - 87ms/step - accuracy: 0.9976 - loss: 0.0072 - val_accuracy: 0.9917 - val_loss: 0.0379\n",
            "Epoch 19/30\n",
            "469/469 - 42s - 90ms/step - accuracy: 0.9975 - loss: 0.0074 - val_accuracy: 0.9917 - val_loss: 0.0347\n",
            "Epoch 20/30\n",
            "469/469 - 42s - 89ms/step - accuracy: 0.9978 - loss: 0.0064 - val_accuracy: 0.9907 - val_loss: 0.0374\n",
            "Epoch 21/30\n",
            "469/469 - 32s - 69ms/step - accuracy: 0.9977 - loss: 0.0073 - val_accuracy: 0.9903 - val_loss: 0.0386\n",
            "Epoch 22/30\n",
            "469/469 - 41s - 88ms/step - accuracy: 0.9986 - loss: 0.0043 - val_accuracy: 0.9906 - val_loss: 0.0423\n",
            "Epoch 23/30\n",
            "469/469 - 42s - 89ms/step - accuracy: 0.9978 - loss: 0.0068 - val_accuracy: 0.9902 - val_loss: 0.0384\n",
            "Epoch 24/30\n",
            "469/469 - 41s - 88ms/step - accuracy: 0.9984 - loss: 0.0053 - val_accuracy: 0.9904 - val_loss: 0.0372\n",
            "Epoch 25/30\n",
            "469/469 - 40s - 85ms/step - accuracy: 0.9984 - loss: 0.0043 - val_accuracy: 0.9908 - val_loss: 0.0424\n",
            "Epoch 26/30\n",
            "469/469 - 41s - 87ms/step - accuracy: 0.9992 - loss: 0.0024 - val_accuracy: 0.9906 - val_loss: 0.0456\n",
            "Epoch 27/30\n",
            "469/469 - 41s - 87ms/step - accuracy: 0.9973 - loss: 0.0079 - val_accuracy: 0.9900 - val_loss: 0.0443\n",
            "Epoch 28/30\n",
            "469/469 - 42s - 90ms/step - accuracy: 0.9987 - loss: 0.0038 - val_accuracy: 0.9922 - val_loss: 0.0368\n",
            "Epoch 29/30\n",
            "469/469 - 40s - 86ms/step - accuracy: 0.9991 - loss: 0.0032 - val_accuracy: 0.9902 - val_loss: 0.0473\n",
            "Epoch 30/30\n",
            "469/469 - 41s - 87ms/step - accuracy: 0.9977 - loss: 0.0064 - val_accuracy: 0.9900 - val_loss: 0.0493\n"
          ]
        },
        {
          "output_type": "execute_result",
          "data": {
            "text/plain": [
              "<keras.src.callbacks.history.History at 0x7af0accfa690>"
            ]
          },
          "metadata": {},
          "execution_count": 4
        }
      ]
    },
    {
      "cell_type": "code",
      "source": [
        "res=cnn.evaluate(x_test,y_test,verbose=0)\n",
        "print('정확률=',res[1]*100)"
      ],
      "metadata": {
        "colab": {
          "base_uri": "https://localhost:8080/"
        },
        "id": "eHWQ6rAc8Pss",
        "outputId": "f1c48de1-4595-450c-9a29-e012f9ed49e7"
      },
      "execution_count": 5,
      "outputs": [
        {
          "output_type": "stream",
          "name": "stdout",
          "text": [
            "정확률= 99.00000095367432\n"
          ]
        }
      ]
    }
  ]
}