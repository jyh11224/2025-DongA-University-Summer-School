{
  "nbformat": 4,
  "nbformat_minor": 0,
  "metadata": {
    "colab": {
      "provenance": [],
      "authorship_tag": "ABX9TyPmUhnABeMKau3qG/D5/CpN",
      "include_colab_link": true
    },
    "kernelspec": {
      "name": "python3",
      "display_name": "Python 3"
    },
    "language_info": {
      "name": "python"
    }
  },
  "cells": [
    {
      "cell_type": "markdown",
      "metadata": {
        "id": "view-in-github",
        "colab_type": "text"
      },
      "source": [
        "<a href=\"https://colab.research.google.com/github/jyh11224/2025-DongA-University-Summer-School/blob/main/%EC%8B%A4%EC%8A%B54.ipynb\" target=\"_parent\"><img src=\"https://colab.research.google.com/assets/colab-badge.svg\" alt=\"Open In Colab\"/></a>"
      ]
    },
    {
      "cell_type": "code",
      "execution_count": 1,
      "metadata": {
        "id": "y9j3mB8j2Pbt"
      },
      "outputs": [],
      "source": [
        "import numpy as np\n",
        "import tensorflow as tf\n",
        "import tensorflow.keras.datasets as ds\n",
        "\n",
        "from tensorflow.keras.models import Sequential\n",
        "from tensorflow.keras.layers import Dense\n",
        "from tensorflow.keras.optimizers import SGD, Adam"
      ]
    },
    {
      "cell_type": "code",
      "source": [
        "(x_train,y_train),(x_test,y_test)=ds.mnist.load_data()\n",
        "x_train=x_train.reshape(60000,784)\n",
        "x_test=x_test.reshape(10000,784)\n",
        "x_train=x_train.astype(np.float32)/255.0\n",
        "x_test=x_test.astype(np.float32)/255.0\n",
        "y_train=tf.keras.utils.to_categorical(y_train,10)\n",
        "y_test=tf.keras.utils.to_categorical(y_test,10)"
      ],
      "metadata": {
        "colab": {
          "base_uri": "https://localhost:8080/"
        },
        "id": "cvLesaVQ2P36",
        "outputId": "e0967425-8447-4523-ffd3-d969ff453850"
      },
      "execution_count": 2,
      "outputs": [
        {
          "output_type": "stream",
          "name": "stdout",
          "text": [
            "Downloading data from https://storage.googleapis.com/tensorflow/tf-keras-datasets/mnist.npz\n",
            "\u001b[1m11490434/11490434\u001b[0m \u001b[32m━━━━━━━━━━━━━━━━━━━━\u001b[0m\u001b[37m\u001b[0m \u001b[1m0s\u001b[0m 0us/step\n"
          ]
        }
      ]
    },
    {
      "cell_type": "code",
      "source": [
        "mlp_sgd=Sequential()\n",
        "mlp_sgd.add(Dense(units=512,activation='tanh',input_shape=(784,)))\n",
        "mlp_sgd.add(Dense(units=10,activation='softmax'))"
      ],
      "metadata": {
        "colab": {
          "base_uri": "https://localhost:8080/"
        },
        "id": "HXlriK0D2qYQ",
        "outputId": "d0148109-2577-4150-b215-c4e62aad18db"
      },
      "execution_count": 3,
      "outputs": [
        {
          "output_type": "stream",
          "name": "stderr",
          "text": [
            "/usr/local/lib/python3.11/dist-packages/keras/src/layers/core/dense.py:87: UserWarning: Do not pass an `input_shape`/`input_dim` argument to a layer. When using Sequential models, prefer using an `Input(shape)` object as the first layer in the model instead.\n",
            "  super().__init__(activity_regularizer=activity_regularizer, **kwargs)\n"
          ]
        }
      ]
    },
    {
      "cell_type": "code",
      "source": [
        "mlp_sgd.compile(loss='MSE',optimizer=SGD(learning_rate=0.01),metrics=['accuracy'])\n",
        "hist_sgd=mlp_sgd.fit(x_train,y_train,batch_size=128,epochs=50,validation_data=(x_test,y_test),verbose=2)\n",
        "print('SGD 정확률=',mlp_sgd.evaluate(x_test,y_test,verbose=0)[1]*100)"
      ],
      "metadata": {
        "colab": {
          "base_uri": "https://localhost:8080/"
        },
        "id": "w1S3ri6D2rYI",
        "outputId": "db4c216f-eea6-4421-bbb0-74caf2f47776"
      },
      "execution_count": 4,
      "outputs": [
        {
          "output_type": "stream",
          "name": "stdout",
          "text": [
            "Epoch 1/50\n",
            "469/469 - 5s - 12ms/step - accuracy: 0.2347 - loss: 0.0876 - val_accuracy: 0.3354 - val_loss: 0.0843\n",
            "Epoch 2/50\n",
            "469/469 - 4s - 8ms/step - accuracy: 0.3865 - loss: 0.0810 - val_accuracy: 0.4298 - val_loss: 0.0777\n",
            "Epoch 3/50\n",
            "469/469 - 6s - 13ms/step - accuracy: 0.4627 - loss: 0.0746 - val_accuracy: 0.5099 - val_loss: 0.0712\n",
            "Epoch 4/50\n",
            "469/469 - 4s - 8ms/step - accuracy: 0.5726 - loss: 0.0682 - val_accuracy: 0.6422 - val_loss: 0.0645\n",
            "Epoch 5/50\n",
            "469/469 - 5s - 12ms/step - accuracy: 0.6658 - loss: 0.0616 - val_accuracy: 0.7068 - val_loss: 0.0577\n",
            "Epoch 6/50\n",
            "469/469 - 5s - 10ms/step - accuracy: 0.7128 - loss: 0.0554 - val_accuracy: 0.7346 - val_loss: 0.0518\n",
            "Epoch 7/50\n",
            "469/469 - 4s - 9ms/step - accuracy: 0.7390 - loss: 0.0502 - val_accuracy: 0.7578 - val_loss: 0.0471\n",
            "Epoch 8/50\n",
            "469/469 - 6s - 13ms/step - accuracy: 0.7588 - loss: 0.0461 - val_accuracy: 0.7742 - val_loss: 0.0434\n",
            "Epoch 9/50\n",
            "469/469 - 4s - 8ms/step - accuracy: 0.7757 - loss: 0.0428 - val_accuracy: 0.7943 - val_loss: 0.0403\n",
            "Epoch 10/50\n",
            "469/469 - 5s - 11ms/step - accuracy: 0.7926 - loss: 0.0400 - val_accuracy: 0.8080 - val_loss: 0.0377\n",
            "Epoch 11/50\n",
            "469/469 - 5s - 11ms/step - accuracy: 0.8067 - loss: 0.0376 - val_accuracy: 0.8178 - val_loss: 0.0355\n",
            "Epoch 12/50\n",
            "469/469 - 3s - 7ms/step - accuracy: 0.8171 - loss: 0.0356 - val_accuracy: 0.8277 - val_loss: 0.0336\n",
            "Epoch 13/50\n",
            "469/469 - 4s - 8ms/step - accuracy: 0.8250 - loss: 0.0339 - val_accuracy: 0.8357 - val_loss: 0.0320\n",
            "Epoch 14/50\n",
            "469/469 - 4s - 9ms/step - accuracy: 0.8311 - loss: 0.0325 - val_accuracy: 0.8413 - val_loss: 0.0307\n",
            "Epoch 15/50\n",
            "469/469 - 5s - 10ms/step - accuracy: 0.8364 - loss: 0.0312 - val_accuracy: 0.8478 - val_loss: 0.0295\n",
            "Epoch 16/50\n",
            "469/469 - 5s - 11ms/step - accuracy: 0.8407 - loss: 0.0301 - val_accuracy: 0.8524 - val_loss: 0.0284\n",
            "Epoch 17/50\n",
            "469/469 - 5s - 11ms/step - accuracy: 0.8457 - loss: 0.0291 - val_accuracy: 0.8574 - val_loss: 0.0275\n",
            "Epoch 18/50\n",
            "469/469 - 4s - 8ms/step - accuracy: 0.8489 - loss: 0.0282 - val_accuracy: 0.8594 - val_loss: 0.0267\n",
            "Epoch 19/50\n",
            "469/469 - 5s - 11ms/step - accuracy: 0.8521 - loss: 0.0275 - val_accuracy: 0.8619 - val_loss: 0.0260\n",
            "Epoch 20/50\n",
            "469/469 - 5s - 10ms/step - accuracy: 0.8551 - loss: 0.0268 - val_accuracy: 0.8643 - val_loss: 0.0253\n",
            "Epoch 21/50\n",
            "469/469 - 4s - 8ms/step - accuracy: 0.8579 - loss: 0.0262 - val_accuracy: 0.8669 - val_loss: 0.0247\n",
            "Epoch 22/50\n",
            "469/469 - 4s - 8ms/step - accuracy: 0.8600 - loss: 0.0256 - val_accuracy: 0.8695 - val_loss: 0.0242\n",
            "Epoch 23/50\n",
            "469/469 - 5s - 10ms/step - accuracy: 0.8619 - loss: 0.0251 - val_accuracy: 0.8722 - val_loss: 0.0237\n",
            "Epoch 24/50\n",
            "469/469 - 4s - 8ms/step - accuracy: 0.8637 - loss: 0.0246 - val_accuracy: 0.8736 - val_loss: 0.0232\n",
            "Epoch 25/50\n",
            "469/469 - 4s - 8ms/step - accuracy: 0.8652 - loss: 0.0242 - val_accuracy: 0.8762 - val_loss: 0.0228\n",
            "Epoch 26/50\n",
            "469/469 - 6s - 13ms/step - accuracy: 0.8667 - loss: 0.0237 - val_accuracy: 0.8777 - val_loss: 0.0224\n",
            "Epoch 27/50\n",
            "469/469 - 4s - 9ms/step - accuracy: 0.8681 - loss: 0.0234 - val_accuracy: 0.8795 - val_loss: 0.0220\n",
            "Epoch 28/50\n",
            "469/469 - 6s - 13ms/step - accuracy: 0.8694 - loss: 0.0230 - val_accuracy: 0.8812 - val_loss: 0.0217\n",
            "Epoch 29/50\n",
            "469/469 - 4s - 8ms/step - accuracy: 0.8707 - loss: 0.0227 - val_accuracy: 0.8828 - val_loss: 0.0214\n",
            "Epoch 30/50\n",
            "469/469 - 5s - 11ms/step - accuracy: 0.8724 - loss: 0.0224 - val_accuracy: 0.8840 - val_loss: 0.0211\n",
            "Epoch 31/50\n",
            "469/469 - 6s - 13ms/step - accuracy: 0.8735 - loss: 0.0221 - val_accuracy: 0.8856 - val_loss: 0.0208\n",
            "Epoch 32/50\n",
            "469/469 - 4s - 9ms/step - accuracy: 0.8749 - loss: 0.0218 - val_accuracy: 0.8858 - val_loss: 0.0206\n",
            "Epoch 33/50\n",
            "469/469 - 4s - 8ms/step - accuracy: 0.8759 - loss: 0.0216 - val_accuracy: 0.8868 - val_loss: 0.0203\n",
            "Epoch 34/50\n",
            "469/469 - 5s - 11ms/step - accuracy: 0.8771 - loss: 0.0213 - val_accuracy: 0.8878 - val_loss: 0.0201\n",
            "Epoch 35/50\n",
            "469/469 - 4s - 8ms/step - accuracy: 0.8780 - loss: 0.0211 - val_accuracy: 0.8892 - val_loss: 0.0199\n",
            "Epoch 36/50\n",
            "469/469 - 4s - 8ms/step - accuracy: 0.8792 - loss: 0.0209 - val_accuracy: 0.8900 - val_loss: 0.0197\n",
            "Epoch 37/50\n",
            "469/469 - 6s - 12ms/step - accuracy: 0.8802 - loss: 0.0207 - val_accuracy: 0.8901 - val_loss: 0.0195\n",
            "Epoch 38/50\n",
            "469/469 - 4s - 9ms/step - accuracy: 0.8810 - loss: 0.0205 - val_accuracy: 0.8904 - val_loss: 0.0193\n",
            "Epoch 39/50\n",
            "469/469 - 4s - 9ms/step - accuracy: 0.8819 - loss: 0.0203 - val_accuracy: 0.8913 - val_loss: 0.0191\n",
            "Epoch 40/50\n",
            "469/469 - 5s - 10ms/step - accuracy: 0.8826 - loss: 0.0201 - val_accuracy: 0.8916 - val_loss: 0.0190\n",
            "Epoch 41/50\n",
            "469/469 - 4s - 8ms/step - accuracy: 0.8833 - loss: 0.0200 - val_accuracy: 0.8920 - val_loss: 0.0188\n",
            "Epoch 42/50\n",
            "469/469 - 6s - 13ms/step - accuracy: 0.8839 - loss: 0.0198 - val_accuracy: 0.8928 - val_loss: 0.0186\n",
            "Epoch 43/50\n",
            "469/469 - 4s - 8ms/step - accuracy: 0.8845 - loss: 0.0196 - val_accuracy: 0.8934 - val_loss: 0.0185\n",
            "Epoch 44/50\n",
            "469/469 - 4s - 8ms/step - accuracy: 0.8852 - loss: 0.0195 - val_accuracy: 0.8942 - val_loss: 0.0183\n",
            "Epoch 45/50\n",
            "469/469 - 6s - 13ms/step - accuracy: 0.8859 - loss: 0.0194 - val_accuracy: 0.8946 - val_loss: 0.0182\n",
            "Epoch 46/50\n",
            "469/469 - 4s - 8ms/step - accuracy: 0.8864 - loss: 0.0192 - val_accuracy: 0.8952 - val_loss: 0.0181\n",
            "Epoch 47/50\n",
            "469/469 - 5s - 11ms/step - accuracy: 0.8873 - loss: 0.0191 - val_accuracy: 0.8959 - val_loss: 0.0180\n",
            "Epoch 48/50\n",
            "469/469 - 5s - 10ms/step - accuracy: 0.8877 - loss: 0.0190 - val_accuracy: 0.8972 - val_loss: 0.0178\n",
            "Epoch 49/50\n",
            "469/469 - 4s - 9ms/step - accuracy: 0.8883 - loss: 0.0188 - val_accuracy: 0.8973 - val_loss: 0.0177\n",
            "Epoch 50/50\n",
            "469/469 - 6s - 12ms/step - accuracy: 0.8887 - loss: 0.0187 - val_accuracy: 0.8974 - val_loss: 0.0176\n",
            "SGD 정확률= 89.74000215530396\n"
          ]
        }
      ]
    },
    {
      "cell_type": "code",
      "source": [
        "mlp_adam=Sequential()\n",
        "mlp_adam.add(Dense(units=512,activation='tanh',input_shape=(784,)))\n",
        "mlp_adam.add(Dense(units=10,activation='softmax'))"
      ],
      "metadata": {
        "id": "tzzntfTi2sfJ"
      },
      "execution_count": 5,
      "outputs": []
    },
    {
      "cell_type": "code",
      "source": [
        "mlp_adam.compile(loss='MSE',optimizer=Adam(learning_rate=0.001),metrics=['accuracy'])\n",
        "hist_adam=mlp_adam.fit(x_train,y_train,batch_size=128,epochs=50,validation_data=(x_test,y_test),verbose=2)\n",
        "print('Adam 정확률=',mlp_adam.evaluate(x_test,y_test,verbose=0)[1]*100)"
      ],
      "metadata": {
        "colab": {
          "base_uri": "https://localhost:8080/"
        },
        "id": "LkLyneH02taA",
        "outputId": "4e2aaefe-8650-49c8-f836-259e731579bb"
      },
      "execution_count": 6,
      "outputs": [
        {
          "output_type": "stream",
          "name": "stdout",
          "text": [
            "Epoch 1/50\n",
            "469/469 - 5s - 12ms/step - accuracy: 0.9038 - loss: 0.0146 - val_accuracy: 0.9322 - val_loss: 0.0105\n",
            "Epoch 2/50\n",
            "469/469 - 6s - 13ms/step - accuracy: 0.9434 - loss: 0.0088 - val_accuracy: 0.9505 - val_loss: 0.0075\n",
            "Epoch 3/50\n",
            "469/469 - 9s - 20ms/step - accuracy: 0.9591 - loss: 0.0065 - val_accuracy: 0.9621 - val_loss: 0.0059\n",
            "Epoch 4/50\n",
            "469/469 - 6s - 12ms/step - accuracy: 0.9685 - loss: 0.0051 - val_accuracy: 0.9661 - val_loss: 0.0053\n",
            "Epoch 5/50\n",
            "469/469 - 5s - 10ms/step - accuracy: 0.9761 - loss: 0.0040 - val_accuracy: 0.9687 - val_loss: 0.0048\n",
            "Epoch 6/50\n",
            "469/469 - 6s - 12ms/step - accuracy: 0.9796 - loss: 0.0034 - val_accuracy: 0.9697 - val_loss: 0.0048\n",
            "Epoch 7/50\n",
            "469/469 - 5s - 10ms/step - accuracy: 0.9833 - loss: 0.0028 - val_accuracy: 0.9730 - val_loss: 0.0042\n",
            "Epoch 8/50\n",
            "469/469 - 5s - 11ms/step - accuracy: 0.9862 - loss: 0.0024 - val_accuracy: 0.9763 - val_loss: 0.0038\n",
            "Epoch 9/50\n",
            "469/469 - 6s - 13ms/step - accuracy: 0.9891 - loss: 0.0019 - val_accuracy: 0.9771 - val_loss: 0.0036\n",
            "Epoch 10/50\n",
            "469/469 - 5s - 10ms/step - accuracy: 0.9905 - loss: 0.0017 - val_accuracy: 0.9786 - val_loss: 0.0033\n",
            "Epoch 11/50\n",
            "469/469 - 6s - 13ms/step - accuracy: 0.9929 - loss: 0.0014 - val_accuracy: 0.9759 - val_loss: 0.0037\n",
            "Epoch 12/50\n",
            "469/469 - 9s - 19ms/step - accuracy: 0.9935 - loss: 0.0012 - val_accuracy: 0.9800 - val_loss: 0.0032\n",
            "Epoch 13/50\n",
            "469/469 - 6s - 12ms/step - accuracy: 0.9950 - loss: 9.9843e-04 - val_accuracy: 0.9781 - val_loss: 0.0032\n",
            "Epoch 14/50\n",
            "469/469 - 10s - 22ms/step - accuracy: 0.9947 - loss: 9.7434e-04 - val_accuracy: 0.9774 - val_loss: 0.0035\n",
            "Epoch 15/50\n",
            "469/469 - 9s - 20ms/step - accuracy: 0.9957 - loss: 8.2941e-04 - val_accuracy: 0.9782 - val_loss: 0.0033\n",
            "Epoch 16/50\n",
            "469/469 - 6s - 13ms/step - accuracy: 0.9969 - loss: 6.5351e-04 - val_accuracy: 0.9814 - val_loss: 0.0029\n",
            "Epoch 17/50\n",
            "469/469 - 6s - 12ms/step - accuracy: 0.9970 - loss: 6.3090e-04 - val_accuracy: 0.9800 - val_loss: 0.0031\n",
            "Epoch 18/50\n",
            "469/469 - 6s - 13ms/step - accuracy: 0.9967 - loss: 6.2392e-04 - val_accuracy: 0.9802 - val_loss: 0.0030\n",
            "Epoch 19/50\n",
            "469/469 - 9s - 19ms/step - accuracy: 0.9974 - loss: 5.0862e-04 - val_accuracy: 0.9816 - val_loss: 0.0029\n",
            "Epoch 20/50\n",
            "469/469 - 6s - 12ms/step - accuracy: 0.9977 - loss: 4.7381e-04 - val_accuracy: 0.9828 - val_loss: 0.0027\n",
            "Epoch 21/50\n",
            "469/469 - 4s - 9ms/step - accuracy: 0.9980 - loss: 4.1621e-04 - val_accuracy: 0.9795 - val_loss: 0.0032\n",
            "Epoch 22/50\n",
            "469/469 - 6s - 12ms/step - accuracy: 0.9975 - loss: 4.8299e-04 - val_accuracy: 0.9821 - val_loss: 0.0029\n",
            "Epoch 23/50\n",
            "469/469 - 5s - 10ms/step - accuracy: 0.9973 - loss: 5.0202e-04 - val_accuracy: 0.9808 - val_loss: 0.0031\n",
            "Epoch 24/50\n",
            "469/469 - 5s - 10ms/step - accuracy: 0.9980 - loss: 4.0146e-04 - val_accuracy: 0.9814 - val_loss: 0.0029\n",
            "Epoch 25/50\n",
            "469/469 - 6s - 12ms/step - accuracy: 0.9982 - loss: 3.4542e-04 - val_accuracy: 0.9818 - val_loss: 0.0029\n",
            "Epoch 26/50\n",
            "469/469 - 5s - 10ms/step - accuracy: 0.9983 - loss: 3.3183e-04 - val_accuracy: 0.9822 - val_loss: 0.0030\n",
            "Epoch 27/50\n",
            "469/469 - 6s - 12ms/step - accuracy: 0.9980 - loss: 3.7534e-04 - val_accuracy: 0.9801 - val_loss: 0.0031\n",
            "Epoch 28/50\n",
            "469/469 - 9s - 19ms/step - accuracy: 0.9977 - loss: 4.3153e-04 - val_accuracy: 0.9763 - val_loss: 0.0037\n",
            "Epoch 29/50\n",
            "469/469 - 6s - 12ms/step - accuracy: 0.9984 - loss: 3.1381e-04 - val_accuracy: 0.9804 - val_loss: 0.0031\n",
            "Epoch 30/50\n",
            "469/469 - 5s - 10ms/step - accuracy: 0.9985 - loss: 2.9396e-04 - val_accuracy: 0.9801 - val_loss: 0.0031\n",
            "Epoch 31/50\n",
            "469/469 - 6s - 12ms/step - accuracy: 0.9986 - loss: 2.8549e-04 - val_accuracy: 0.9825 - val_loss: 0.0029\n",
            "Epoch 32/50\n",
            "469/469 - 5s - 10ms/step - accuracy: 0.9984 - loss: 3.1391e-04 - val_accuracy: 0.9791 - val_loss: 0.0033\n",
            "Epoch 33/50\n",
            "469/469 - 5s - 11ms/step - accuracy: 0.9981 - loss: 3.6192e-04 - val_accuracy: 0.9789 - val_loss: 0.0033\n",
            "Epoch 34/50\n",
            "469/469 - 6s - 13ms/step - accuracy: 0.9980 - loss: 3.7671e-04 - val_accuracy: 0.9798 - val_loss: 0.0031\n",
            "Epoch 35/50\n",
            "469/469 - 11s - 23ms/step - accuracy: 0.9985 - loss: 2.6978e-04 - val_accuracy: 0.9822 - val_loss: 0.0028\n",
            "Epoch 36/50\n",
            "469/469 - 9s - 19ms/step - accuracy: 0.9989 - loss: 2.1034e-04 - val_accuracy: 0.9833 - val_loss: 0.0025\n",
            "Epoch 37/50\n",
            "469/469 - 6s - 12ms/step - accuracy: 0.9990 - loss: 1.9715e-04 - val_accuracy: 0.9827 - val_loss: 0.0027\n",
            "Epoch 38/50\n",
            "469/469 - 10s - 22ms/step - accuracy: 0.9980 - loss: 3.5222e-04 - val_accuracy: 0.9812 - val_loss: 0.0033\n",
            "Epoch 39/50\n",
            "469/469 - 5s - 10ms/step - accuracy: 0.9980 - loss: 3.5969e-04 - val_accuracy: 0.9802 - val_loss: 0.0031\n",
            "Epoch 40/50\n",
            "469/469 - 5s - 10ms/step - accuracy: 0.9988 - loss: 2.2249e-04 - val_accuracy: 0.9832 - val_loss: 0.0026\n",
            "Epoch 41/50\n",
            "469/469 - 6s - 12ms/step - accuracy: 0.9981 - loss: 3.4325e-04 - val_accuracy: 0.9807 - val_loss: 0.0031\n",
            "Epoch 42/50\n",
            "469/469 - 5s - 10ms/step - accuracy: 0.9989 - loss: 2.3432e-04 - val_accuracy: 0.9816 - val_loss: 0.0030\n",
            "Epoch 43/50\n",
            "469/469 - 6s - 13ms/step - accuracy: 0.9989 - loss: 2.1133e-04 - val_accuracy: 0.9798 - val_loss: 0.0031\n",
            "Epoch 44/50\n",
            "469/469 - 5s - 10ms/step - accuracy: 0.9987 - loss: 2.5348e-04 - val_accuracy: 0.9813 - val_loss: 0.0031\n",
            "Epoch 45/50\n",
            "469/469 - 5s - 11ms/step - accuracy: 0.9986 - loss: 2.7185e-04 - val_accuracy: 0.9817 - val_loss: 0.0029\n",
            "Epoch 46/50\n",
            "469/469 - 5s - 12ms/step - accuracy: 0.9990 - loss: 1.9847e-04 - val_accuracy: 0.9831 - val_loss: 0.0027\n",
            "Epoch 47/50\n",
            "469/469 - 11s - 23ms/step - accuracy: 0.9990 - loss: 1.8304e-04 - val_accuracy: 0.9830 - val_loss: 0.0027\n",
            "Epoch 48/50\n",
            "469/469 - 5s - 10ms/step - accuracy: 0.9988 - loss: 2.1511e-04 - val_accuracy: 0.9799 - val_loss: 0.0032\n",
            "Epoch 49/50\n",
            "469/469 - 5s - 11ms/step - accuracy: 0.9977 - loss: 3.9837e-04 - val_accuracy: 0.9798 - val_loss: 0.0032\n",
            "Epoch 50/50\n",
            "469/469 - 6s - 12ms/step - accuracy: 0.9988 - loss: 2.2787e-04 - val_accuracy: 0.9819 - val_loss: 0.0028\n",
            "Adam 정확률= 98.18999767303467\n"
          ]
        }
      ]
    },
    {
      "cell_type": "code",
      "source": [
        "import matplotlib.pyplot as plt"
      ],
      "metadata": {
        "id": "rZIdnIQJ2uz9"
      },
      "execution_count": 7,
      "outputs": []
    },
    {
      "cell_type": "code",
      "source": [
        "plt.plot(hist_sgd.history['accuracy'],'r--')\n",
        "plt.plot(hist_sgd.history['val_accuracy'],'r')\n",
        "plt.plot(hist_adam.history['accuracy'],'b--')\n",
        "plt.plot(hist_adam.history['val_accuracy'],'b')\n",
        "plt.title('Comparison of SGD and Adam optimizers')\n",
        "plt.ylim((0.7,1.0))\n",
        "plt.xlabel('epochs')\n",
        "plt.ylabel('accuracy')\n",
        "plt.legend(['train_sgd','val_sgd','train_adam','val_adam'])\n",
        "plt.grid()\n",
        "plt.show()"
      ],
      "metadata": {
        "colab": {
          "base_uri": "https://localhost:8080/",
          "height": 471
        },
        "id": "Ua5lUvrl2wDz",
        "outputId": "b82b2e39-aa65-4c3e-9389-6a7c13ca5bfa"
      },
      "execution_count": 8,
      "outputs": [
        {
          "output_type": "display_data",
          "data": {
            "text/plain": [
              "<Figure size 640x480 with 1 Axes>"
            ],
            "image/png": "[encoded data removed]"
          },
          "metadata": {}
        }
      ]
    }
  ]
}