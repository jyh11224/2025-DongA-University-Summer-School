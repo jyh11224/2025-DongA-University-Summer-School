{
  "nbformat": 4,
  "nbformat_minor": 0,
  "metadata": {
    "colab": {
      "provenance": [],
      "authorship_tag": "ABX9TyNZisMo2j+g3XZWaQ7DMD5q",
      "include_colab_link": true
    },
    "kernelspec": {
      "name": "python3",
      "display_name": "Python 3"
    },
    "language_info": {
      "name": "python"
    }
  },
  "cells": [
    {
      "cell_type": "markdown",
      "metadata": {
        "id": "view-in-github",
        "colab_type": "text"
      },
      "source": [
        "<a href=\"https://colab.research.google.com/github/jyh11224/2025-DongA-University-Summer-School/blob/main/%EC%8B%A4%EC%8A%B52.ipynb\" target=\"_parent\"><img src=\"https://colab.research.google.com/assets/colab-badge.svg\" alt=\"Open In Colab\"/></a>"
      ]
    },
    {
      "cell_type": "code",
      "execution_count": 1,
      "metadata": {
        "id": "AxnqxeLbdZsi"
      },
      "outputs": [],
      "source": [
        "import numpy as np\n",
        "import tensorflow as tf\n",
        "import tensorflow.keras.datasets as ds\n",
        "\n",
        "from tensorflow.keras.models import Sequential\n",
        "from tensorflow.keras.layers import Dense\n",
        "from tensorflow.keras.optimizers import SGD"
      ]
    },
    {
      "cell_type": "code",
      "source": [
        "(x_train,y_train),(x_test,y_test)=ds.mnist.load_data()\n",
        "x_train=x_train.reshape(60000,784)\n",
        "x_test=x_test.reshape(10000,784)\n",
        "x_train=x_train.astype(np.float32)/255.0\n",
        "x_test=x_test.astype(np.float32)/255.0\n",
        "y_train=tf.keras.utils.to_categorical(y_train,10)\n",
        "y_test=tf.keras.utils.to_categorical(y_test,10)"
      ],
      "metadata": {
        "colab": {
          "base_uri": "https://localhost:8080/"
        },
        "id": "hkm9dqcAdbIw",
        "outputId": "da295e2b-2ea7-4f60-c43d-d00f52fdbd3f"
      },
      "execution_count": 2,
      "outputs": [
        {
          "output_type": "stream",
          "name": "stdout",
          "text": [
            "Downloading data from https://storage.googleapis.com/tensorflow/tf-keras-datasets/mnist.npz\n",
            "\u001b[1m11490434/11490434\u001b[0m \u001b[32m━━━━━━━━━━━━━━━━━━━━\u001b[0m\u001b[37m\u001b[0m \u001b[1m0s\u001b[0m 0us/step\n"
          ]
        }
      ]
    },
    {
      "cell_type": "code",
      "source": [
        "mlp=Sequential()\n",
        "mlp.add(Dense(units=512,activation='tanh',input_shape=(784,)))\n",
        "mlp.add(Dense(units=10,activation='softmax'))"
      ],
      "metadata": {
        "colab": {
          "base_uri": "https://localhost:8080/"
        },
        "id": "NTTR7zo4dcQi",
        "outputId": "f788fff4-4ced-4fe0-fb84-aa54b22c4fbb"
      },
      "execution_count": 5,
      "outputs": [
        {
          "output_type": "stream",
          "name": "stderr",
          "text": [
            "/usr/local/lib/python3.11/dist-packages/keras/src/layers/core/dense.py:87: UserWarning: Do not pass an `input_shape`/`input_dim` argument to a layer. When using Sequential models, prefer using an `Input(shape)` object as the first layer in the model instead.\n",
            "  super().__init__(activity_regularizer=activity_regularizer, **kwargs)\n"
          ]
        }
      ]
    },
    {
      "cell_type": "code",
      "source": [
        "mlp.compile(loss='MSE',optimizer=SGD(learning_rate=0.01),metrics=['accuracy'])\n",
        "mlp.fit(x_train,y_train,batch_size=128,epochs=50,validation_data=(x_test,y_test),verbose=2)"
      ],
      "metadata": {
        "colab": {
          "base_uri": "https://localhost:8080/"
        },
        "id": "nKJq-poIddtA",
        "outputId": "5fef8f96-19b9-4f8f-a636-5373f9c44656"
      },
      "execution_count": 6,
      "outputs": [
        {
          "output_type": "stream",
          "name": "stdout",
          "text": [
            "Epoch 1/50\n",
            "469/469 - 3s - 7ms/step - accuracy: 0.1630 - loss: 0.0889 - val_accuracy: 0.2849 - val_loss: 0.0861\n",
            "Epoch 2/50\n",
            "469/469 - 3s - 5ms/step - accuracy: 0.3766 - loss: 0.0832 - val_accuracy: 0.4633 - val_loss: 0.0795\n",
            "Epoch 3/50\n",
            "469/469 - 2s - 5ms/step - accuracy: 0.5119 - loss: 0.0761 - val_accuracy: 0.5800 - val_loss: 0.0715\n",
            "Epoch 4/50\n",
            "469/469 - 2s - 5ms/step - accuracy: 0.6109 - loss: 0.0678 - val_accuracy: 0.6365 - val_loss: 0.0631\n",
            "Epoch 5/50\n",
            "469/469 - 3s - 6ms/step - accuracy: 0.6516 - loss: 0.0602 - val_accuracy: 0.6717 - val_loss: 0.0563\n",
            "Epoch 6/50\n",
            "469/469 - 5s - 10ms/step - accuracy: 0.6856 - loss: 0.0543 - val_accuracy: 0.7085 - val_loss: 0.0510\n",
            "Epoch 7/50\n",
            "469/469 - 3s - 6ms/step - accuracy: 0.7158 - loss: 0.0497 - val_accuracy: 0.7382 - val_loss: 0.0468\n",
            "Epoch 8/50\n",
            "469/469 - 3s - 6ms/step - accuracy: 0.7388 - loss: 0.0460 - val_accuracy: 0.7598 - val_loss: 0.0434\n",
            "Epoch 9/50\n",
            "469/469 - 5s - 10ms/step - accuracy: 0.7586 - loss: 0.0429 - val_accuracy: 0.7789 - val_loss: 0.0405\n",
            "Epoch 10/50\n",
            "469/469 - 2s - 5ms/step - accuracy: 0.7784 - loss: 0.0403 - val_accuracy: 0.7984 - val_loss: 0.0380\n",
            "Epoch 11/50\n",
            "469/469 - 3s - 5ms/step - accuracy: 0.7964 - loss: 0.0380 - val_accuracy: 0.8179 - val_loss: 0.0358\n",
            "Epoch 12/50\n",
            "469/469 - 3s - 6ms/step - accuracy: 0.8117 - loss: 0.0360 - val_accuracy: 0.8320 - val_loss: 0.0340\n",
            "Epoch 13/50\n",
            "469/469 - 2s - 5ms/step - accuracy: 0.8224 - loss: 0.0342 - val_accuracy: 0.8402 - val_loss: 0.0323\n",
            "Epoch 14/50\n",
            "469/469 - 2s - 5ms/step - accuracy: 0.8304 - loss: 0.0327 - val_accuracy: 0.8464 - val_loss: 0.0309\n",
            "Epoch 15/50\n",
            "469/469 - 3s - 5ms/step - accuracy: 0.8363 - loss: 0.0314 - val_accuracy: 0.8507 - val_loss: 0.0297\n",
            "Epoch 16/50\n",
            "469/469 - 3s - 6ms/step - accuracy: 0.8414 - loss: 0.0303 - val_accuracy: 0.8544 - val_loss: 0.0286\n",
            "Epoch 17/50\n",
            "469/469 - 2s - 5ms/step - accuracy: 0.8455 - loss: 0.0293 - val_accuracy: 0.8572 - val_loss: 0.0277\n",
            "Epoch 18/50\n",
            "469/469 - 2s - 5ms/step - accuracy: 0.8494 - loss: 0.0284 - val_accuracy: 0.8605 - val_loss: 0.0269\n",
            "Epoch 19/50\n",
            "469/469 - 2s - 5ms/step - accuracy: 0.8532 - loss: 0.0276 - val_accuracy: 0.8632 - val_loss: 0.0261\n",
            "Epoch 20/50\n",
            "469/469 - 3s - 6ms/step - accuracy: 0.8556 - loss: 0.0268 - val_accuracy: 0.8662 - val_loss: 0.0254\n",
            "Epoch 21/50\n",
            "469/469 - 3s - 6ms/step - accuracy: 0.8585 - loss: 0.0262 - val_accuracy: 0.8690 - val_loss: 0.0248\n",
            "Epoch 22/50\n",
            "469/469 - 5s - 10ms/step - accuracy: 0.8606 - loss: 0.0256 - val_accuracy: 0.8705 - val_loss: 0.0243\n",
            "Epoch 23/50\n",
            "469/469 - 3s - 5ms/step - accuracy: 0.8626 - loss: 0.0251 - val_accuracy: 0.8721 - val_loss: 0.0238\n",
            "Epoch 24/50\n",
            "469/469 - 3s - 6ms/step - accuracy: 0.8648 - loss: 0.0246 - val_accuracy: 0.8738 - val_loss: 0.0233\n",
            "Epoch 25/50\n",
            "469/469 - 2s - 5ms/step - accuracy: 0.8669 - loss: 0.0241 - val_accuracy: 0.8752 - val_loss: 0.0229\n",
            "Epoch 26/50\n",
            "469/469 - 2s - 5ms/step - accuracy: 0.8685 - loss: 0.0237 - val_accuracy: 0.8777 - val_loss: 0.0225\n",
            "Epoch 27/50\n",
            "469/469 - 3s - 6ms/step - accuracy: 0.8698 - loss: 0.0233 - val_accuracy: 0.8790 - val_loss: 0.0221\n",
            "Epoch 28/50\n",
            "469/469 - 3s - 7ms/step - accuracy: 0.8710 - loss: 0.0230 - val_accuracy: 0.8804 - val_loss: 0.0218\n",
            "Epoch 29/50\n",
            "469/469 - 5s - 10ms/step - accuracy: 0.8725 - loss: 0.0226 - val_accuracy: 0.8812 - val_loss: 0.0215\n",
            "Epoch 30/50\n",
            "469/469 - 2s - 5ms/step - accuracy: 0.8740 - loss: 0.0223 - val_accuracy: 0.8818 - val_loss: 0.0212\n",
            "Epoch 31/50\n",
            "469/469 - 2s - 5ms/step - accuracy: 0.8747 - loss: 0.0220 - val_accuracy: 0.8829 - val_loss: 0.0209\n",
            "Epoch 32/50\n",
            "469/469 - 3s - 7ms/step - accuracy: 0.8759 - loss: 0.0218 - val_accuracy: 0.8842 - val_loss: 0.0206\n",
            "Epoch 33/50\n",
            "469/469 - 5s - 10ms/step - accuracy: 0.8769 - loss: 0.0215 - val_accuracy: 0.8854 - val_loss: 0.0204\n",
            "Epoch 34/50\n",
            "469/469 - 2s - 5ms/step - accuracy: 0.8780 - loss: 0.0213 - val_accuracy: 0.8861 - val_loss: 0.0202\n",
            "Epoch 35/50\n",
            "469/469 - 3s - 6ms/step - accuracy: 0.8789 - loss: 0.0210 - val_accuracy: 0.8865 - val_loss: 0.0199\n",
            "Epoch 36/50\n",
            "469/469 - 2s - 5ms/step - accuracy: 0.8799 - loss: 0.0208 - val_accuracy: 0.8871 - val_loss: 0.0197\n",
            "Epoch 37/50\n",
            "469/469 - 2s - 5ms/step - accuracy: 0.8808 - loss: 0.0206 - val_accuracy: 0.8878 - val_loss: 0.0195\n",
            "Epoch 38/50\n",
            "469/469 - 2s - 5ms/step - accuracy: 0.8818 - loss: 0.0204 - val_accuracy: 0.8891 - val_loss: 0.0194\n",
            "Epoch 39/50\n",
            "469/469 - 3s - 5ms/step - accuracy: 0.8824 - loss: 0.0202 - val_accuracy: 0.8891 - val_loss: 0.0192\n",
            "Epoch 40/50\n",
            "469/469 - 3s - 6ms/step - accuracy: 0.8830 - loss: 0.0200 - val_accuracy: 0.8906 - val_loss: 0.0190\n",
            "Epoch 41/50\n",
            "469/469 - 5s - 10ms/step - accuracy: 0.8839 - loss: 0.0199 - val_accuracy: 0.8912 - val_loss: 0.0188\n",
            "Epoch 42/50\n",
            "469/469 - 2s - 5ms/step - accuracy: 0.8846 - loss: 0.0197 - val_accuracy: 0.8915 - val_loss: 0.0187\n",
            "Epoch 43/50\n",
            "469/469 - 3s - 6ms/step - accuracy: 0.8852 - loss: 0.0196 - val_accuracy: 0.8921 - val_loss: 0.0185\n",
            "Epoch 44/50\n",
            "469/469 - 5s - 10ms/step - accuracy: 0.8857 - loss: 0.0194 - val_accuracy: 0.8929 - val_loss: 0.0184\n",
            "Epoch 45/50\n",
            "469/469 - 2s - 5ms/step - accuracy: 0.8863 - loss: 0.0193 - val_accuracy: 0.8935 - val_loss: 0.0183\n",
            "Epoch 46/50\n",
            "469/469 - 2s - 5ms/step - accuracy: 0.8868 - loss: 0.0191 - val_accuracy: 0.8939 - val_loss: 0.0181\n",
            "Epoch 47/50\n",
            "469/469 - 3s - 6ms/step - accuracy: 0.8873 - loss: 0.0190 - val_accuracy: 0.8942 - val_loss: 0.0180\n",
            "Epoch 48/50\n",
            "469/469 - 5s - 10ms/step - accuracy: 0.8881 - loss: 0.0189 - val_accuracy: 0.8946 - val_loss: 0.0179\n",
            "Epoch 49/50\n",
            "469/469 - 2s - 5ms/step - accuracy: 0.8882 - loss: 0.0187 - val_accuracy: 0.8950 - val_loss: 0.0178\n",
            "Epoch 50/50\n",
            "469/469 - 3s - 6ms/step - accuracy: 0.8890 - loss: 0.0186 - val_accuracy: 0.8950 - val_loss: 0.0177\n"
          ]
        },
        {
          "output_type": "execute_result",
          "data": {
            "text/plain": [
              "<keras.src.callbacks.history.History at 0x7b77ca764990>"
            ]
          },
          "metadata": {},
          "execution_count": 6
        }
      ]
    },
    {
      "cell_type": "code",
      "source": [
        "res=mlp.evaluate(x_test,y_test,verbose=0)\n",
        "print('정확률=',res[1]*100)"
      ],
      "metadata": {
        "colab": {
          "base_uri": "https://localhost:8080/"
        },
        "id": "TmpLqh5xdfcA",
        "outputId": "845529f4-6dbc-47f8-a200-34a4938fd10e"
      },
      "execution_count": 7,
      "outputs": [
        {
          "output_type": "stream",
          "name": "stdout",
          "text": [
            "정확률= 89.49999809265137\n"
          ]
        }
      ]
    }
  ]
}