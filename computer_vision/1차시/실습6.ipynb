{
  "nbformat": 4,
  "nbformat_minor": 0,
  "metadata": {
    "colab": {
      "provenance": [],
      "authorship_tag": "ABX9TyMYCaAeRG5NvDtAw9/n8k9W",
      "include_colab_link": true
    },
    "kernelspec": {
      "name": "python3",
      "display_name": "Python 3"
    },
    "language_info": {
      "name": "python"
    }
  },
  "cells": [
    {
      "cell_type": "markdown",
      "metadata": {
        "id": "view-in-github",
        "colab_type": "text"
      },
      "source": [
        "<a href=\"https://colab.research.google.com/github/jyh11224/2025-DongA-University-Summer-School/blob/main/%EC%8B%A4%EC%8A%B56.ipynb\" target=\"_parent\"><img src=\"https://colab.research.google.com/assets/colab-badge.svg\" alt=\"Open In Colab\"/></a>"
      ]
    },
    {
      "cell_type": "code",
      "execution_count": 1,
      "metadata": {
        "id": "27Gz6xRh3E1h"
      },
      "outputs": [],
      "source": [
        "import numpy as np\n",
        "import tensorflow as tf\n",
        "import tensorflow.keras.datasets as ds\n",
        "\n",
        "from tensorflow.keras.models import Sequential\n",
        "from tensorflow.keras.layers import Dense\n",
        "from tensorflow.keras.optimizers import Adam"
      ]
    },
    {
      "cell_type": "code",
      "source": [
        "(x_train,y_train),(x_test,y_test)=ds.cifar10.load_data()\n",
        "x_train=x_train.reshape(50000,3072)\n",
        "x_test=x_test.reshape(10000,3072)\n",
        "x_train=x_train.astype(np.float32)/255.0\n",
        "x_test=x_test.astype(np.float32)/255.0\n",
        "y_train=tf.keras.utils.to_categorical(y_train,10)\n",
        "y_test=tf.keras.utils.to_categorical(y_test,10)"
      ],
      "metadata": {
        "colab": {
          "base_uri": "https://localhost:8080/"
        },
        "id": "Nx0wnEdS3Qw5",
        "outputId": "ae0548b1-e56f-4942-e487-c0cadd3f2eaa"
      },
      "execution_count": 2,
      "outputs": [
        {
          "output_type": "stream",
          "name": "stdout",
          "text": [
            "Downloading data from https://www.cs.toronto.edu/~kriz/cifar-10-python.tar.gz\n",
            "\u001b[1m170498071/170498071\u001b[0m \u001b[32m━━━━━━━━━━━━━━━━━━━━\u001b[0m\u001b[37m\u001b[0m \u001b[1m3s\u001b[0m 0us/step\n"
          ]
        }
      ]
    },
    {
      "cell_type": "code",
      "source": [
        "dmlp=Sequential()\n",
        "dmlp.add(Dense(units=1024,activation='relu',input_shape=(3072,)))\n",
        "dmlp.add(Dense(units=512,activation='relu'))\n",
        "dmlp.add(Dense(units=512,activation='relu'))\n",
        "dmlp.add(Dense(units=10,activation='softmax'))"
      ],
      "metadata": {
        "colab": {
          "base_uri": "https://localhost:8080/"
        },
        "id": "6vZdYnm33Rty",
        "outputId": "efd738c3-ab4e-48d4-edc8-087e5833fade"
      },
      "execution_count": 3,
      "outputs": [
        {
          "output_type": "stream",
          "name": "stderr",
          "text": [
            "/usr/local/lib/python3.11/dist-packages/keras/src/layers/core/dense.py:87: UserWarning: Do not pass an `input_shape`/`input_dim` argument to a layer. When using Sequential models, prefer using an `Input(shape)` object as the first layer in the model instead.\n",
            "  super().__init__(activity_regularizer=activity_regularizer, **kwargs)\n"
          ]
        }
      ]
    },
    {
      "cell_type": "code",
      "source": [
        "dmlp.compile(loss='categorical_crossentropy',optimizer=Adam(learning_rate=0.0001),metrics=['accuracy'])\n",
        "hist=dmlp.fit(x_train,y_train,batch_size=128,epochs=50,validation_data=(x_test,y_test),verbose=2)\n",
        "print('정확률=', dmlp.evaluate(x_test,y_test,verbose=0)[1]*100)"
      ],
      "metadata": {
        "colab": {
          "base_uri": "https://localhost:8080/"
        },
        "id": "3Zdk1VL03TO4",
        "outputId": "9afcf949-da33-4be2-dd1e-7de447f142df"
      },
      "execution_count": null,
      "outputs": [
        {
          "output_type": "stream",
          "name": "stdout",
          "text": [
            "Epoch 1/50\n",
            "391/391 - 33s - 83ms/step - accuracy: 0.3453 - loss: 1.8305 - val_accuracy: 0.4139 - val_loss: 1.6697\n",
            "Epoch 2/50\n",
            "391/391 - 30s - 76ms/step - accuracy: 0.4240 - loss: 1.6260 - val_accuracy: 0.4341 - val_loss: 1.5843\n",
            "Epoch 3/50\n",
            "391/391 - 41s - 105ms/step - accuracy: 0.4529 - loss: 1.5401 - val_accuracy: 0.4649 - val_loss: 1.5117\n",
            "Epoch 4/50\n",
            "391/391 - 41s - 104ms/step - accuracy: 0.4758 - loss: 1.4794 - val_accuracy: 0.4693 - val_loss: 1.4932\n",
            "Epoch 5/50\n",
            "391/391 - 41s - 104ms/step - accuracy: 0.4944 - loss: 1.4275 - val_accuracy: 0.4966 - val_loss: 1.4366\n",
            "Epoch 6/50\n",
            "391/391 - 42s - 107ms/step - accuracy: 0.5095 - loss: 1.3845 - val_accuracy: 0.4651 - val_loss: 1.4989\n",
            "Epoch 7/50\n",
            "391/391 - 41s - 106ms/step - accuracy: 0.5230 - loss: 1.3450 - val_accuracy: 0.5128 - val_loss: 1.3762\n",
            "Epoch 8/50\n",
            "391/391 - 40s - 103ms/step - accuracy: 0.5371 - loss: 1.3058 - val_accuracy: 0.5139 - val_loss: 1.3924\n",
            "Epoch 9/50\n",
            "391/391 - 41s - 105ms/step - accuracy: 0.5501 - loss: 1.2705 - val_accuracy: 0.5269 - val_loss: 1.3477\n",
            "Epoch 10/50\n",
            "391/391 - 41s - 105ms/step - accuracy: 0.5617 - loss: 1.2359 - val_accuracy: 0.5174 - val_loss: 1.3628\n",
            "Epoch 11/50\n",
            "391/391 - 40s - 104ms/step - accuracy: 0.5725 - loss: 1.2123 - val_accuracy: 0.5305 - val_loss: 1.3199\n",
            "Epoch 12/50\n",
            "391/391 - 41s - 104ms/step - accuracy: 0.5845 - loss: 1.1776 - val_accuracy: 0.5116 - val_loss: 1.3649\n",
            "Epoch 13/50\n",
            "391/391 - 41s - 106ms/step - accuracy: 0.5946 - loss: 1.1498 - val_accuracy: 0.5324 - val_loss: 1.3180\n",
            "Epoch 14/50\n",
            "391/391 - 40s - 103ms/step - accuracy: 0.6082 - loss: 1.1177 - val_accuracy: 0.5302 - val_loss: 1.3280\n",
            "Epoch 15/50\n",
            "391/391 - 40s - 102ms/step - accuracy: 0.6154 - loss: 1.0908 - val_accuracy: 0.5449 - val_loss: 1.3005\n",
            "Epoch 16/50\n",
            "391/391 - 42s - 108ms/step - accuracy: 0.6266 - loss: 1.0593 - val_accuracy: 0.5392 - val_loss: 1.3092\n",
            "Epoch 17/50\n",
            "391/391 - 42s - 106ms/step - accuracy: 0.6358 - loss: 1.0319 - val_accuracy: 0.5477 - val_loss: 1.2977\n",
            "Epoch 18/50\n",
            "391/391 - 40s - 103ms/step - accuracy: 0.6491 - loss: 1.0025 - val_accuracy: 0.5551 - val_loss: 1.2836\n",
            "Epoch 19/50\n",
            "391/391 - 41s - 105ms/step - accuracy: 0.6579 - loss: 0.9764 - val_accuracy: 0.5411 - val_loss: 1.3226\n",
            "Epoch 20/50\n",
            "391/391 - 42s - 106ms/step - accuracy: 0.6674 - loss: 0.9514 - val_accuracy: 0.5441 - val_loss: 1.3156\n",
            "Epoch 21/50\n",
            "391/391 - 40s - 103ms/step - accuracy: 0.6768 - loss: 0.9246 - val_accuracy: 0.5480 - val_loss: 1.3113\n",
            "Epoch 22/50\n",
            "391/391 - 41s - 105ms/step - accuracy: 0.6873 - loss: 0.8930 - val_accuracy: 0.5488 - val_loss: 1.3233\n",
            "Epoch 23/50\n",
            "391/391 - 41s - 105ms/step - accuracy: 0.6952 - loss: 0.8727 - val_accuracy: 0.5506 - val_loss: 1.3517\n",
            "Epoch 24/50\n",
            "391/391 - 29s - 74ms/step - accuracy: 0.7041 - loss: 0.8465 - val_accuracy: 0.5540 - val_loss: 1.3381\n",
            "Epoch 25/50\n",
            "391/391 - 30s - 76ms/step - accuracy: 0.7160 - loss: 0.8184 - val_accuracy: 0.5396 - val_loss: 1.3758\n",
            "Epoch 26/50\n",
            "391/391 - 29s - 75ms/step - accuracy: 0.7235 - loss: 0.7934 - val_accuracy: 0.5415 - val_loss: 1.3537\n",
            "Epoch 27/50\n",
            "391/391 - 42s - 107ms/step - accuracy: 0.7337 - loss: 0.7650 - val_accuracy: 0.5494 - val_loss: 1.3614\n",
            "Epoch 28/50\n",
            "391/391 - 40s - 103ms/step - accuracy: 0.7428 - loss: 0.7415 - val_accuracy: 0.5518 - val_loss: 1.3631\n",
            "Epoch 29/50\n",
            "391/391 - 41s - 105ms/step - accuracy: 0.7548 - loss: 0.7131 - val_accuracy: 0.5477 - val_loss: 1.3910\n",
            "Epoch 30/50\n",
            "391/391 - 41s - 105ms/step - accuracy: 0.7631 - loss: 0.6871 - val_accuracy: 0.5556 - val_loss: 1.4110\n",
            "Epoch 31/50\n"
          ]
        }
      ]
    },
    {
      "cell_type": "code",
      "source": [
        "dmlp.save('dmlp_trained.h5')"
      ],
      "metadata": {
        "id": "7UPWlWLX3UBx"
      },
      "execution_count": null,
      "outputs": []
    },
    {
      "cell_type": "code",
      "source": [
        "import matplotlib.pyplot as plt"
      ],
      "metadata": {
        "id": "QkJrSLZ_3VNG"
      },
      "execution_count": null,
      "outputs": []
    },
    {
      "cell_type": "code",
      "source": [
        "plt.plot(hist.history['accuracy'])\n",
        "plt.plot(hist.history['val_accuracy'])\n",
        "plt.title('Accuracy graph')\n",
        "plt.xlabel('epochs')\n",
        "plt.ylabel('accuracy')\n",
        "plt.legend(['train','test'])\n",
        "plt.grid()\n",
        "plt.show()"
      ],
      "metadata": {
        "id": "YhicrIaG3WD4"
      },
      "execution_count": null,
      "outputs": []
    },
    {
      "cell_type": "code",
      "source": [
        "plt.plot(hist.history['loss'])\n",
        "plt.plot(hist.history['val_loss'])\n",
        "plt.title('Loss graph')\n",
        "plt.xlabel('epochs')\n",
        "plt.ylabel('loss')\n",
        "plt.legend(['train','test'])\n",
        "plt.grid()\n",
        "plt.show()"
      ],
      "metadata": {
        "id": "7xOjxCId3XGp"
      },
      "execution_count": null,
      "outputs": []
    }
  ]
}
