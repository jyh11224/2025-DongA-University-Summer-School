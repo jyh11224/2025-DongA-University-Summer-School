{
  "nbformat": 4,
  "nbformat_minor": 0,
  "metadata": {
    "colab": {
      "provenance": [],
      "authorship_tag": "ABX9TyN4BOwLhySthgyWHOFXohya",
      "include_colab_link": true
    },
    "kernelspec": {
      "name": "python3",
      "display_name": "Python 3"
    },
    "language_info": {
      "name": "python"
    }
  },
  "cells": [
    {
      "cell_type": "markdown",
      "metadata": {
        "id": "view-in-github",
        "colab_type": "text"
      },
      "source": [
        "<a href=\"https://colab.research.google.com/github/jyh11224/2025-DongA-University-Summer-School/blob/main/%EC%8B%A4%EC%8A%B53.ipynb\" target=\"_parent\"><img src=\"https://colab.research.google.com/assets/colab-badge.svg\" alt=\"Open In Colab\"/></a>"
      ]
    },
    {
      "cell_type": "code",
      "execution_count": 1,
      "metadata": {
        "id": "wXydyyFa1-Dw"
      },
      "outputs": [],
      "source": [
        "import numpy as np\n",
        "import tensorflow as tf\n",
        "import tensorflow.keras.datasets as ds\n",
        "\n",
        "from tensorflow.keras.models import Sequential\n",
        "from tensorflow.keras.layers import Dense\n",
        "from tensorflow.keras.optimizers import Adam"
      ]
    },
    {
      "cell_type": "code",
      "source": [
        "(x_train,y_train),(x_test,y_test)=ds.mnist.load_data()\n",
        "x_train=x_train.reshape(60000,784)\n",
        "x_test=x_test.reshape(10000,784)\n",
        "x_train=x_train.astype(np.float32)/255.0\n",
        "x_test=x_test.astype(np.float32)/255.0\n",
        "y_train=tf.keras.utils.to_categorical(y_train,10)\n",
        "y_test=tf.keras.utils.to_categorical(y_test,10)"
      ],
      "metadata": {
        "colab": {
          "base_uri": "https://localhost:8080/"
        },
        "id": "yPv4N8Fz1_09",
        "outputId": "5c9bc529-fc52-42da-9c45-66578125bd6c"
      },
      "execution_count": 2,
      "outputs": [
        {
          "output_type": "stream",
          "name": "stdout",
          "text": [
            "Downloading data from https://storage.googleapis.com/tensorflow/tf-keras-datasets/mnist.npz\n",
            "\u001b[1m11490434/11490434\u001b[0m \u001b[32m━━━━━━━━━━━━━━━━━━━━\u001b[0m\u001b[37m\u001b[0m \u001b[1m0s\u001b[0m 0us/step\n"
          ]
        }
      ]
    },
    {
      "cell_type": "code",
      "source": [
        "mlp=Sequential()\n",
        "mlp.add(Dense(units=512,activation='tanh',input_shape=(784,)))\n",
        "mlp.add(Dense(units=10,activation='softmax'))"
      ],
      "metadata": {
        "colab": {
          "base_uri": "https://localhost:8080/"
        },
        "id": "V-hgxXdJ2A2W",
        "outputId": "7cb80cbf-44a8-4e03-97fc-b0e17847ef9f"
      },
      "execution_count": 3,
      "outputs": [
        {
          "output_type": "stream",
          "name": "stderr",
          "text": [
            "/usr/local/lib/python3.11/dist-packages/keras/src/layers/core/dense.py:87: UserWarning: Do not pass an `input_shape`/`input_dim` argument to a layer. When using Sequential models, prefer using an `Input(shape)` object as the first layer in the model instead.\n",
            "  super().__init__(activity_regularizer=activity_regularizer, **kwargs)\n"
          ]
        }
      ]
    },
    {
      "cell_type": "code",
      "source": [
        "mlp.compile(loss='MSE',optimizer=Adam(learning_rate=0.001),metrics=['accuracy'])\n",
        "mlp.fit(x_train,y_train,batch_size=128,epochs=50,validation_data=(x_test,y_test),verbose=2)\n"
      ],
      "metadata": {
        "colab": {
          "base_uri": "https://localhost:8080/"
        },
        "id": "I1u0Iexy2B1w",
        "outputId": "c88e2dd8-5865-433c-9de3-1cdf20d43876"
      },
      "execution_count": 4,
      "outputs": [
        {
          "output_type": "stream",
          "name": "stdout",
          "text": [
            "Epoch 1/50\n",
            "469/469 - 4s - 9ms/step - accuracy: 0.9012 - loss: 0.0149 - val_accuracy: 0.9336 - val_loss: 0.0102\n",
            "Epoch 2/50\n",
            "469/469 - 4s - 8ms/step - accuracy: 0.9437 - loss: 0.0088 - val_accuracy: 0.9498 - val_loss: 0.0076\n",
            "Epoch 3/50\n",
            "469/469 - 5s - 10ms/step - accuracy: 0.9593 - loss: 0.0065 - val_accuracy: 0.9624 - val_loss: 0.0059\n",
            "Epoch 4/50\n",
            "469/469 - 3s - 6ms/step - accuracy: 0.9694 - loss: 0.0050 - val_accuracy: 0.9639 - val_loss: 0.0055\n",
            "Epoch 5/50\n",
            "469/469 - 6s - 12ms/step - accuracy: 0.9757 - loss: 0.0040 - val_accuracy: 0.9711 - val_loss: 0.0046\n",
            "Epoch 6/50\n",
            "469/469 - 5s - 11ms/step - accuracy: 0.9799 - loss: 0.0033 - val_accuracy: 0.9737 - val_loss: 0.0042\n",
            "Epoch 7/50\n",
            "469/469 - 3s - 7ms/step - accuracy: 0.9838 - loss: 0.0027 - val_accuracy: 0.9736 - val_loss: 0.0039\n",
            "Epoch 8/50\n",
            "469/469 - 4s - 8ms/step - accuracy: 0.9863 - loss: 0.0023 - val_accuracy: 0.9744 - val_loss: 0.0040\n",
            "Epoch 9/50\n",
            "469/469 - 3s - 7ms/step - accuracy: 0.9888 - loss: 0.0020 - val_accuracy: 0.9768 - val_loss: 0.0036\n",
            "Epoch 10/50\n",
            "469/469 - 3s - 6ms/step - accuracy: 0.9903 - loss: 0.0017 - val_accuracy: 0.9778 - val_loss: 0.0034\n",
            "Epoch 11/50\n",
            "469/469 - 4s - 8ms/step - accuracy: 0.9919 - loss: 0.0014 - val_accuracy: 0.9795 - val_loss: 0.0031\n",
            "Epoch 12/50\n",
            "469/469 - 4s - 9ms/step - accuracy: 0.9934 - loss: 0.0012 - val_accuracy: 0.9782 - val_loss: 0.0033\n",
            "Epoch 13/50\n",
            "469/469 - 5s - 11ms/step - accuracy: 0.9943 - loss: 0.0010 - val_accuracy: 0.9803 - val_loss: 0.0030\n",
            "Epoch 14/50\n",
            "469/469 - 5s - 10ms/step - accuracy: 0.9952 - loss: 8.9919e-04 - val_accuracy: 0.9753 - val_loss: 0.0039\n",
            "Epoch 15/50\n",
            "469/469 - 5s - 11ms/step - accuracy: 0.9954 - loss: 8.5753e-04 - val_accuracy: 0.9787 - val_loss: 0.0032\n",
            "Epoch 16/50\n",
            "469/469 - 3s - 7ms/step - accuracy: 0.9969 - loss: 6.3930e-04 - val_accuracy: 0.9811 - val_loss: 0.0030\n",
            "Epoch 17/50\n",
            "469/469 - 4s - 8ms/step - accuracy: 0.9969 - loss: 6.0379e-04 - val_accuracy: 0.9815 - val_loss: 0.0028\n",
            "Epoch 18/50\n",
            "469/469 - 5s - 11ms/step - accuracy: 0.9974 - loss: 5.1611e-04 - val_accuracy: 0.9787 - val_loss: 0.0032\n",
            "Epoch 19/50\n",
            "469/469 - 5s - 11ms/step - accuracy: 0.9974 - loss: 5.2284e-04 - val_accuracy: 0.9804 - val_loss: 0.0030\n",
            "Epoch 20/50\n",
            "469/469 - 4s - 8ms/step - accuracy: 0.9970 - loss: 5.6307e-04 - val_accuracy: 0.9779 - val_loss: 0.0035\n",
            "Epoch 21/50\n",
            "469/469 - 3s - 7ms/step - accuracy: 0.9979 - loss: 4.4446e-04 - val_accuracy: 0.9824 - val_loss: 0.0029\n",
            "Epoch 22/50\n",
            "469/469 - 4s - 8ms/step - accuracy: 0.9980 - loss: 3.9765e-04 - val_accuracy: 0.9823 - val_loss: 0.0029\n",
            "Epoch 23/50\n",
            "469/469 - 5s - 10ms/step - accuracy: 0.9981 - loss: 3.6753e-04 - val_accuracy: 0.9826 - val_loss: 0.0029\n",
            "Epoch 24/50\n",
            "469/469 - 5s - 12ms/step - accuracy: 0.9976 - loss: 4.4723e-04 - val_accuracy: 0.9800 - val_loss: 0.0031\n",
            "Epoch 25/50\n",
            "469/469 - 4s - 8ms/step - accuracy: 0.9986 - loss: 2.9283e-04 - val_accuracy: 0.9819 - val_loss: 0.0029\n",
            "Epoch 26/50\n",
            "469/469 - 5s - 10ms/step - accuracy: 0.9984 - loss: 3.2483e-04 - val_accuracy: 0.9788 - val_loss: 0.0033\n",
            "Epoch 27/50\n",
            "469/469 - 3s - 6ms/step - accuracy: 0.9981 - loss: 3.9612e-04 - val_accuracy: 0.9808 - val_loss: 0.0030\n",
            "Epoch 28/50\n",
            "469/469 - 5s - 11ms/step - accuracy: 0.9984 - loss: 3.0851e-04 - val_accuracy: 0.9823 - val_loss: 0.0027\n",
            "Epoch 29/50\n",
            "469/469 - 5s - 11ms/step - accuracy: 0.9987 - loss: 2.6964e-04 - val_accuracy: 0.9808 - val_loss: 0.0030\n",
            "Epoch 30/50\n",
            "469/469 - 5s - 10ms/step - accuracy: 0.9979 - loss: 4.0487e-04 - val_accuracy: 0.9812 - val_loss: 0.0031\n",
            "Epoch 31/50\n",
            "469/469 - 5s - 11ms/step - accuracy: 0.9984 - loss: 2.8922e-04 - val_accuracy: 0.9792 - val_loss: 0.0032\n",
            "Epoch 32/50\n",
            "469/469 - 5s - 11ms/step - accuracy: 0.9985 - loss: 2.9809e-04 - val_accuracy: 0.9781 - val_loss: 0.0035\n",
            "Epoch 33/50\n",
            "469/469 - 6s - 12ms/step - accuracy: 0.9986 - loss: 2.7458e-04 - val_accuracy: 0.9817 - val_loss: 0.0029\n",
            "Epoch 34/50\n",
            "469/469 - 6s - 12ms/step - accuracy: 0.9986 - loss: 2.5694e-04 - val_accuracy: 0.9808 - val_loss: 0.0030\n",
            "Epoch 35/50\n",
            "469/469 - 3s - 7ms/step - accuracy: 0.9987 - loss: 2.5090e-04 - val_accuracy: 0.9791 - val_loss: 0.0033\n",
            "Epoch 36/50\n",
            "469/469 - 3s - 7ms/step - accuracy: 0.9987 - loss: 2.5601e-04 - val_accuracy: 0.9825 - val_loss: 0.0028\n",
            "Epoch 37/50\n",
            "469/469 - 5s - 11ms/step - accuracy: 0.9988 - loss: 2.2534e-04 - val_accuracy: 0.9810 - val_loss: 0.0031\n",
            "Epoch 38/50\n",
            "469/469 - 5s - 12ms/step - accuracy: 0.9977 - loss: 3.9282e-04 - val_accuracy: 0.9751 - val_loss: 0.0039\n",
            "Epoch 39/50\n",
            "469/469 - 5s - 12ms/step - accuracy: 0.9983 - loss: 3.0148e-04 - val_accuracy: 0.9816 - val_loss: 0.0029\n",
            "Epoch 40/50\n",
            "469/469 - 3s - 6ms/step - accuracy: 0.9984 - loss: 2.7337e-04 - val_accuracy: 0.9816 - val_loss: 0.0030\n",
            "Epoch 41/50\n",
            "469/469 - 6s - 13ms/step - accuracy: 0.9988 - loss: 2.2153e-04 - val_accuracy: 0.9797 - val_loss: 0.0031\n",
            "Epoch 42/50\n",
            "469/469 - 5s - 10ms/step - accuracy: 0.9985 - loss: 2.7488e-04 - val_accuracy: 0.9804 - val_loss: 0.0032\n",
            "Epoch 43/50\n",
            "469/469 - 3s - 6ms/step - accuracy: 0.9986 - loss: 2.6194e-04 - val_accuracy: 0.9811 - val_loss: 0.0029\n",
            "Epoch 44/50\n",
            "469/469 - 6s - 14ms/step - accuracy: 0.9989 - loss: 2.0555e-04 - val_accuracy: 0.9821 - val_loss: 0.0030\n",
            "Epoch 45/50\n",
            "469/469 - 4s - 9ms/step - accuracy: 0.9991 - loss: 1.7709e-04 - val_accuracy: 0.9816 - val_loss: 0.0030\n",
            "Epoch 46/50\n",
            "469/469 - 6s - 13ms/step - accuracy: 0.9989 - loss: 2.2612e-04 - val_accuracy: 0.9767 - val_loss: 0.0037\n",
            "Epoch 47/50\n",
            "469/469 - 3s - 7ms/step - accuracy: 0.9986 - loss: 2.5658e-04 - val_accuracy: 0.9809 - val_loss: 0.0030\n",
            "Epoch 48/50\n",
            "469/469 - 3s - 7ms/step - accuracy: 0.9987 - loss: 2.4601e-04 - val_accuracy: 0.9785 - val_loss: 0.0034\n",
            "Epoch 49/50\n",
            "469/469 - 4s - 8ms/step - accuracy: 0.9984 - loss: 2.8429e-04 - val_accuracy: 0.9810 - val_loss: 0.0031\n",
            "Epoch 50/50\n",
            "469/469 - 3s - 7ms/step - accuracy: 0.9988 - loss: 2.1183e-04 - val_accuracy: 0.9818 - val_loss: 0.0029\n"
          ]
        },
        {
          "output_type": "execute_result",
          "data": {
            "text/plain": [
              "<keras.src.callbacks.history.History at 0x7a9fe06ec790>"
            ]
          },
          "metadata": {},
          "execution_count": 4
        }
      ]
    },
    {
      "cell_type": "code",
      "source": [
        "res=mlp.evaluate(x_test,y_test,verbose=0)\n",
        "print('정확률=',res[1]*100)"
      ],
      "metadata": {
        "colab": {
          "base_uri": "https://localhost:8080/"
        },
        "id": "xQo52le22C0U",
        "outputId": "696d652d-219b-4a7b-88cc-a5d5bcdb5a66"
      },
      "execution_count": 5,
      "outputs": [
        {
          "output_type": "stream",
          "name": "stdout",
          "text": [
            "정확률= 98.18000197410583\n"
          ]
        }
      ]
    }
  ]
}
